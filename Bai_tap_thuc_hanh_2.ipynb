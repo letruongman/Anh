{
  "nbformat": 4,
  "nbformat_minor": 0,
  "metadata": {
    "colab": {
      "provenance": [],
      "name": "Bai tap thuc hanh 2"
    },
    "kernelspec": {
      "name": "python3",
      "display_name": "Python 3"
    },
    "language_info": {
      "name": "python"
    }
  },
  "cells": [
    {
      "cell_type": "markdown",
      "metadata": {
        "id": "kTVNdssHZkvP"
      },
      "source": [
        "# I. Gợi ý"
      ]
    },
    {
      "cell_type": "code",
      "source": [
        "dict1 = {'test1': 2, 'test2': 'who'}"
      ],
      "metadata": {
        "id": "unnrL1VArgAF"
      },
      "execution_count": null,
      "outputs": []
    },
    {
      "cell_type": "code",
      "source": [
        "dict1.values()"
      ],
      "metadata": {
        "id": "Kwk7DES-rnvS",
        "outputId": "64220507-3ebf-49c9-8cb0-588abc27d12e",
        "colab": {
          "base_uri": "https://localhost:8080/"
        }
      },
      "execution_count": null,
      "outputs": [
        {
          "output_type": "execute_result",
          "data": {
            "text/plain": [
              "dict_values([2, 'who'])"
            ]
          },
          "metadata": {},
          "execution_count": 2
        }
      ]
    },
    {
      "cell_type": "markdown",
      "metadata": {
        "id": "aafDTj48aK3W"
      },
      "source": [
        "## 1.1. Tupple\n",
        "\n",
        "Để trích xuất giá trị của 1 phần tử trong Tupple, sử dụng chỉ số index dạng `n-1` của phần tử đó trong tupple."
      ]
    },
    {
      "cell_type": "code",
      "metadata": {
        "id": "gaY0XIf3ae40"
      },
      "source": [
        "tup = (\"abc\", (\"xyz\", \"mka\"), 123)"
      ],
      "execution_count": null,
      "outputs": []
    },
    {
      "cell_type": "markdown",
      "metadata": {
        "id": "Utt-Dk51apDE"
      },
      "source": [
        "Để trích xuất giá trị \"xyz\" và \"mka\" trên ta sử dụng cấu trúc:"
      ]
    },
    {
      "cell_type": "code",
      "metadata": {
        "colab": {
          "base_uri": "https://localhost:8080/",
          "height": 35
        },
        "id": "-JCC3zH2awtm",
        "outputId": "3c2d9572-9b59-4c65-fe8e-5d15123f199e"
      },
      "source": [
        "tup[1][0]"
      ],
      "execution_count": null,
      "outputs": [
        {
          "output_type": "execute_result",
          "data": {
            "application/vnd.google.colaboratory.intrinsic+json": {
              "type": "string"
            },
            "text/plain": [
              "'xyz'"
            ]
          },
          "metadata": {
            "tags": []
          },
          "execution_count": 15
        }
      ]
    },
    {
      "cell_type": "code",
      "metadata": {
        "colab": {
          "base_uri": "https://localhost:8080/",
          "height": 35
        },
        "id": "UYyyJL6Ra5u1",
        "outputId": "e1d981f4-4918-4a14-d294-fc05ff79006a"
      },
      "source": [
        "tup[1][1]"
      ],
      "execution_count": null,
      "outputs": [
        {
          "output_type": "execute_result",
          "data": {
            "application/vnd.google.colaboratory.intrinsic+json": {
              "type": "string"
            },
            "text/plain": [
              "'mka'"
            ]
          },
          "metadata": {
            "tags": []
          },
          "execution_count": 10
        }
      ]
    },
    {
      "cell_type": "markdown",
      "metadata": {
        "id": "Y0Kg3VZJZ-1U"
      },
      "source": [
        "## 1.2. Nested JSON"
      ]
    },
    {
      "cell_type": "markdown",
      "metadata": {
        "id": "MKqR47wVTwp6"
      },
      "source": [
        "> JSON là viết tắt của **J**ava**S**cript **O**bject **N**otation. JSON là định dạng tối ưu dùng để trao đổi dữ liệu một cách nhanh chóng với máy tính, thường được dùng như là chuẩn trao đổi dữ liệu thông qua API.\n",
        "\n",
        "> Nested JSON ở đây chỉ các cấu trúc JSON sử dụng lồng ghép nhiều kiểu dữ liệu, thường gặp nhất là dict và list.\n",
        "\n",
        "Dưới đây là minh họa cách trích xuất dữ liệu từ 1 đoạn Nested JSON:"
      ]
    },
    {
      "cell_type": "code",
      "metadata": {
        "id": "zx5gs2hFTsii"
      },
      "source": [
        "object = {\"data\":[\"x\", \"y\", {\"stats\":\"1123\"}]}"
      ],
      "execution_count": null,
      "outputs": []
    },
    {
      "cell_type": "markdown",
      "metadata": {
        "id": "n1tWAYs3UUAr"
      },
      "source": [
        "Để lấy giá trị value của dict trên theo key là `data`, sử dụng cấu trúc `object[\"key_name\"]` như sau, giá trị trả về là 1 list:"
      ]
    },
    {
      "cell_type": "code",
      "metadata": {
        "colab": {
          "base_uri": "https://localhost:8080/"
        },
        "id": "Rj10e6FLUQbm",
        "outputId": "e3f7d16b-57a2-4fdc-a88a-045513a58937"
      },
      "source": [
        "object[\"data\"]"
      ],
      "execution_count": null,
      "outputs": [
        {
          "output_type": "execute_result",
          "data": {
            "text/plain": [
              "['x', 'y', {'stats': '1123'}]"
            ]
          },
          "metadata": {
            "tags": []
          },
          "execution_count": 16
        }
      ]
    },
    {
      "cell_type": "markdown",
      "metadata": {
        "id": "dGzoLyxBUhwX"
      },
      "source": [
        "Để lấy giá trị trong 1 list, chúng ta truy xuất bằng vị trí index theo dạng `n-1` của phần tử trong list đó. Ví dụ, muốn lấy giá trị `y` ở trên:"
      ]
    },
    {
      "cell_type": "code",
      "metadata": {
        "colab": {
          "base_uri": "https://localhost:8080/",
          "height": 35
        },
        "id": "eAT_k9H_Ucyl",
        "outputId": "112f2533-5fe6-45ee-be47-cc13a4529c51"
      },
      "source": [
        "object[\"data\"][1]"
      ],
      "execution_count": null,
      "outputs": [
        {
          "output_type": "execute_result",
          "data": {
            "application/vnd.google.colaboratory.intrinsic+json": {
              "type": "string"
            },
            "text/plain": [
              "'y'"
            ]
          },
          "metadata": {
            "tags": []
          },
          "execution_count": 13
        }
      ]
    },
    {
      "cell_type": "markdown",
      "metadata": {
        "id": "uXOXjyjaVSIh"
      },
      "source": [
        "Để truy xuất giá trị ở các cấu trúc thấp hơn trong object ở trên, chúng ta lần lượt thêm giá trị vị trí để truy xuất. Vì vậy để lấy giá trị 1 của key là `stats` trong dict con như trên. ta sử dụng cấu trúc:"
      ]
    },
    {
      "cell_type": "code",
      "metadata": {
        "colab": {
          "base_uri": "https://localhost:8080/",
          "height": 35
        },
        "id": "--hCzMAtVgQw",
        "outputId": "39600551-8d2a-43b9-d449-9aa1f4a2d120"
      },
      "source": [
        "object[\"data\"][2][\"stats\"]"
      ],
      "execution_count": null,
      "outputs": [
        {
          "output_type": "execute_result",
          "data": {
            "application/vnd.google.colaboratory.intrinsic+json": {
              "type": "string"
            },
            "text/plain": [
              "'1123'"
            ]
          },
          "metadata": {
            "tags": []
          },
          "execution_count": 14
        }
      ]
    },
    {
      "cell_type": "markdown",
      "metadata": {
        "id": "-Z71meXqZekQ"
      },
      "source": [
        "# II. Bài tập"
      ]
    },
    {
      "cell_type": "markdown",
      "metadata": {
        "id": "pYjB1zQNZqOi"
      },
      "source": [
        "## 2.1. Bài tập 1"
      ]
    },
    {
      "cell_type": "markdown",
      "metadata": {
        "id": "CBmk2hGRdA_z"
      },
      "source": [
        "*Từ* ví dụ minh họa trên, hãy thêm 2 code block để trích xuất lần lượt giá trị `6666` và `77` có trong tupple sau:"
      ]
    },
    {
      "cell_type": "code",
      "metadata": {
        "id": "mQ7Npj6xZC79"
      },
      "source": [
        "my_tup = ((11, 2222), (33, 4444), (55, 6666), (77, 8888))"
      ],
      "execution_count": 2,
      "outputs": []
    },
    {
      "cell_type": "code",
      "source": [
        "my_tup[2][1]"
      ],
      "metadata": {
        "id": "6XpZQmzddIfB",
        "outputId": "01903710-9752-46c0-f520-dac4df2a203d",
        "colab": {
          "base_uri": "https://localhost:8080/"
        }
      },
      "execution_count": 3,
      "outputs": [
        {
          "output_type": "execute_result",
          "data": {
            "text/plain": [
              "6666"
            ]
          },
          "metadata": {},
          "execution_count": 3
        }
      ]
    },
    {
      "cell_type": "code",
      "source": [
        "my_tup[3][0]"
      ],
      "metadata": {
        "id": "HX4sqUHCdX62",
        "outputId": "70d94b6d-7597-4427-d7c2-b476d09b99b7",
        "colab": {
          "base_uri": "https://localhost:8080/"
        }
      },
      "execution_count": 4,
      "outputs": [
        {
          "output_type": "execute_result",
          "data": {
            "text/plain": [
              "77"
            ]
          },
          "metadata": {},
          "execution_count": 4
        }
      ]
    },
    {
      "cell_type": "markdown",
      "metadata": {
        "id": "JlUXtAmJZxCC"
      },
      "source": [
        "## 2.2. Bài tập 2"
      ]
    },
    {
      "cell_type": "markdown",
      "source": [
        "> Học viên chọn làm bài tập a hoặc b tùy theo mục tiêu học tập của mình."
      ],
      "metadata": {
        "id": "n5ZiYQGKXwFJ"
      }
    },
    {
      "cell_type": "markdown",
      "source": [
        "### a. Nhóm ứng dụng về Marketing"
      ],
      "metadata": {
        "id": "uYjfz6a6Xrhb"
      }
    },
    {
      "cell_type": "markdown",
      "metadata": {
        "id": "3alTTGcqTKOU"
      },
      "source": [
        "Cho đoạn mã JSON như dưới đây từ mẫu báo cáo quảng cáo Cốc Cốc, hãy sử dụng kiến thức đã học và ví dụ minh họa để tạo 3 code block và tách giá trị click, impressions, spendings của campaignId `1389656` trong ngày `2020-09-17`."
      ]
    },
    {
      "cell_type": "code",
      "metadata": {
        "id": "0mfutvV6DFF0"
      },
      "source": [
        "camp_report ={'success': True,\n",
        "    'data': [{'campaignId': 1389671,\n",
        "      'statsTotal': {'clicks': 29,\n",
        "       'impressions': 853,\n",
        "       'spendings': 154395.32524605797},\n",
        "      'statsDetail': [{'date': '2020-09-17',\n",
        "        'clicks': 4,\n",
        "        'impressions': 134,\n",
        "        'spendings': 21730.66185081744},\n",
        "       {'date': '2020-09-18',\n",
        "        'clicks': 8,\n",
        "        'impressions': 333,\n",
        "        'spendings': 43256.675433123},\n",
        "       {'date': '2020-09-19',\n",
        "        'clicks': 16,\n",
        "        'impressions': 363,\n",
        "        'spendings': 85186.52219675365},\n",
        "       {'date': '2020-09-20',\n",
        "        'clicks': 1,\n",
        "        'impressions': 23,\n",
        "        'spendings': 4221.465765363872}]},\n",
        "     {'campaignId': 1389656,\n",
        "      'statsTotal': {'clicks': 6,\n",
        "       'impressions': 15,\n",
        "       'spendings': 3536.6265839361936},\n",
        "      'statsDetail': [{'date': '2020-09-17',\n",
        "        'clicks': 0,\n",
        "        'impressions': 2,\n",
        "        'spendings': 0},\n",
        "       {'date': '2020-09-18',\n",
        "        'clicks': 5,\n",
        "        'impressions': 11,\n",
        "        'spendings': 3277.814807997066},\n",
        "       {'date': '2020-09-19',\n",
        "        'clicks': 1,\n",
        "        'impressions': 2,\n",
        "        'spendings': 258.81177593912736}]}],\n",
        "    'usage_limit': {'used': 0, 'limit': 1}}"
      ],
      "execution_count": null,
      "outputs": []
    },
    {
      "cell_type": "markdown",
      "source": [
        "### b. Nhóm ứng dụng phân tích chứng khoán"
      ],
      "metadata": {
        "id": "JEJtUxQiTfrH"
      }
    },
    {
      "cell_type": "markdown",
      "source": [
        "Cho đoạn mã JSON dưới đây, lấy từ thông tin các sự kiện liên quan đến mã cổ phiếu `TPB` do TCBS cung cấp thông qua [API trên website TCInvest](https://apipubaws.tcbs.com.vn/tcanalysis/v1/ticker/TPB/events-news?page=0&size=3). Giả sử anh/chị đang viết một chương trình Python theo dõi các sự kiện liên quan đến mã cổ phiếu này. Hãy tạo 3 dòng code riêng biệt và viết câu lệnh giúp trích xuất thông tin `eventName`, `exerDate` (ngày hiệu lực) cho sự kiện có mã id `2563135`"
      ],
      "metadata": {
        "id": "Au443Y2PUVBb"
      }
    },
    {
      "cell_type": "code",
      "source": [
        "list_events = {\n",
        "              \"listEventNews\": [\n",
        "                  {\n",
        "                      \"id\": 2563370,\n",
        "                      \"ticker\": \"TPB\",\n",
        "                      \"price\": 18100,\n",
        "                      \"priceChange\": -350,\n",
        "                      \"priceChangeRatio\": -0.019,\n",
        "                      \"priceChangeRatio1W\": -0.016,\n",
        "                      \"priceChangeRatio1M\": 0.037,\n",
        "                      \"eventName\": \"TPB - Niêm yết bổ sung 619,879,514 cổ phiếu\",\n",
        "                      \"eventCode\": \"AIS\",\n",
        "                      \"notifyDate\": \"2023-06-29 00:00:00\",\n",
        "                      \"exerDate\": \"2023-07-07 00:00:00\",\n",
        "                      \"regFinalDate\": \"1753-01-01 00:00:00\",\n",
        "                      \"exRigthDate\": \"1753-01-01 00:00:00\",\n",
        "                      \"eventDesc\": \"<p>Ngân hàng Thương mại Cổ phần Tiên Phong (TPB) niêm yết bổ sung cổ phiếu:<br />\\r\\nSố lượng cổ phiếu niêm yết bổ sung: 619,879,514 cổ phiếu<br />\\r\\nTổng số lượng cổ phiếu niêm yết: 2,201,635,009 cổ phiếu<br />\\r\\nNgày thay đổi niêm yết có hiệu lực: 03/07/2023<br />\\r\\nNgày chính thức giao dịch: 07/07/2023.</p>\\r\\n\",\n",
        "                      \"eventNote\": None\n",
        "                  },\n",
        "                  {\n",
        "                      \"id\": 2563135,\n",
        "                      \"ticker\": \"TPB\",\n",
        "                      \"price\": 18535,\n",
        "                      \"priceChange\": -215,\n",
        "                      \"priceChangeRatio\": -0.011,\n",
        "                      \"priceChangeRatio1W\": 0.071,\n",
        "                      \"priceChangeRatio1M\": 0.110,\n",
        "                      \"eventName\": \"TPB - Phát hành cổ phiếu thưởng tỷ lệ 39,19%\",\n",
        "                      \"eventCode\": \"ISS\",\n",
        "                      \"notifyDate\": \"2023-06-06 00:00:00\",\n",
        "                      \"exerDate\": \"2023-06-09 00:00:00\",\n",
        "                      \"regFinalDate\": \"2023-06-12 00:00:00\",\n",
        "                      \"exRigthDate\": \"2023-06-09 00:00:00\",\n",
        "                      \"eventDesc\": \"<p>Ngân hàng Thương mại Cổ phần Tiên Phong (TPB) phát hành cổ phiếu thưởng:<br />\\r\\nNgày giao dịch không hưởng quyền: 09/06/2023<br />\\r\\nNgày đăng ký cuối cùng: 12/06/2023<br />\\r\\nTỷ lệ thực hiện: 39,19%<br />\\r\\nSố cổ phiếu dự kiến phát hành: 619.889.978</p>\\r\\n\",\n",
        "                      \"eventNote\": None\n",
        "                  },\n",
        "                  {\n",
        "                      \"id\": 2561933,\n",
        "                      \"ticker\": \"TPB\",\n",
        "                      \"price\": 15668,\n",
        "                      \"priceChange\": -64,\n",
        "                      \"priceChangeRatio\": -0.004,\n",
        "                      \"priceChangeRatio1W\": 0.030,\n",
        "                      \"priceChangeRatio1M\": 0.030,\n",
        "                      \"eventName\": \"TPB - Tổ chức ĐHĐCĐ thường niên 2023\",\n",
        "                      \"eventCode\": \"AGME\",\n",
        "                      \"notifyDate\": \"2023-03-14 00:00:00\",\n",
        "                      \"exerDate\": \"2023-04-26 00:00:00\",\n",
        "                      \"regFinalDate\": \"2023-03-29 00:00:00\",\n",
        "                      \"exRigthDate\": \"2023-03-28 00:00:00\",\n",
        "                      \"eventDesc\": \"<p>Ngân hàng Thương mại Cổ phần Tiên Phong (TPB) tổ chức ĐHĐCĐ thường niên năm 2023:<br />\\r\\nNgày giao dịch không hưởng quyền: 28/03/2023<br />\\r\\nNgày đăng ký cuối cùng: 29/03/2023<br />\\r\\nThời gian thực hiện: 26/04/2023 08:30<br />\\r\\nĐịa điểm thực hiện: Phòng họp Grand Ballroom – Tầng 2, Khách sạn Melia, 44 Lý Thường Kiệt, Phường Trần Hưng Đạo, Quận Hoàn Kiếm, Thành phố Hà Nội;.</p>\\r\\n\",\n",
        "                      \"eventNote\": None\n",
        "                  }\n",
        "              ]\n",
        "          }"
      ],
      "metadata": {
        "id": "aDsmYvbETfEC"
      },
      "execution_count": 5,
      "outputs": []
    },
    {
      "cell_type": "code",
      "source": [
        "for i in range(2):\n",
        "  if list_events[\"listEventNews\"][i]['id']==2563135:\n",
        "    print(list_events[\"listEventNews\"][i]['eventName'])\n",
        "    print(list_events[\"listEventNews\"][i][\"exerDate\"])\n",
        "\n"
      ],
      "metadata": {
        "id": "zkHNE3sxdiIp",
        "outputId": "026a3936-e073-422a-de62-6758fab5ea0b",
        "colab": {
          "base_uri": "https://localhost:8080/"
        }
      },
      "execution_count": 11,
      "outputs": [
        {
          "output_type": "stream",
          "name": "stdout",
          "text": [
            "TPB - Phát hành cổ phiếu thưởng tỷ lệ 39,19%\n",
            "2023-06-09 00:00:00\n"
          ]
        }
      ]
    },
    {
      "cell_type": "markdown",
      "metadata": {
        "id": "sWpQQvAqfe0z"
      },
      "source": [
        "## 2.3. Bài tập 3 - Câu điều kiện"
      ]
    },
    {
      "cell_type": "markdown",
      "metadata": {
        "id": "QX7o6LR3fnYX"
      },
      "source": [
        "Cho 4 phân đoạn tuổi của người dùng thường gặp trong quảng cáo như dưới đây:\n",
        "\n",
        "* 18-24\n",
        "* 25-34\n",
        "* 35-44\n",
        "* Từ 45 trở lên\n",
        "\n",
        "**Yêu cầu:**\n",
        "1. Tạo biến `my_age` và gán giá trị là số tuổi của bạn sử dụng phép tính trong python. `my_age = năm hiện tại - năm sinh`\n",
        "\n",
        "2. Sử dụng cấu trúc câu điều kiện đã học để trả về kết quả là tuổi của bạn thuộc phân đoạn tuổi nào như đã cho ở trên. Cấu trúc có dạng\n",
        "\n",
        "```\n",
        "if ....:\n",
        "  .....\n",
        "elif...:\n",
        "  .....\n",
        "elif...:\n",
        "  .....\n",
        "else...:\n",
        "  .....\n",
        "```"
      ]
    },
    {
      "cell_type": "markdown",
      "metadata": {
        "id": "FIwJEsTkhdoQ"
      },
      "source": [
        "## 2.4 Bài tập 4 - Hàm"
      ]
    },
    {
      "cell_type": "markdown",
      "metadata": {
        "id": "nBzqyJ-ChkLp"
      },
      "source": [
        "Từ bài tập 3 ở trên, chuyển câu điều kiện đã viết thành hàm Python để khi input giá trị tuổi của bạn vào thì hàm trả về kết quả là phân đoạn tuổi tương ứng. Tham khảo cấu trúc sau:"
      ]
    },
    {
      "cell_type": "code",
      "metadata": {
        "id": "H-GK6YBhhzvt"
      },
      "source": [
        "def age_range(my_age):\n",
        "  if ....:\n",
        "    output = \"18-24\"\n",
        "  elif...:\n",
        "    .....\n",
        "  elif...:\n",
        "    .....\n",
        "  else...:\n",
        "    .....\n",
        "  return output"
      ],
      "execution_count": null,
      "outputs": []
    },
    {
      "cell_type": "markdown",
      "metadata": {
        "id": "RPchHyD_jDCb"
      },
      "source": [
        "## 2.5. Bài tập 5 - Vòng lặp"
      ]
    },
    {
      "cell_type": "markdown",
      "metadata": {
        "id": "gXCjr67mjurC"
      },
      "source": [
        "Cho dict dưới đây bao gồm tuổi của các bạn trong lớp. Hãy sử dụng hàm được viết ra trong bài tập 4 kết hợp với vòng lặp For hoặc While để viết 1 code block trả về kết quả là phân đoạn tuổi của từng bạn trong lớp."
      ]
    },
    {
      "cell_type": "code",
      "metadata": {
        "id": "KjX_1CwUjGvn"
      },
      "source": [
        "member_age = {\"Duy\":31, \"Thúy\":30, \"Jack\":\"28\", \"Trình\":\"26\", \"Quỳnh\":25}"
      ],
      "execution_count": null,
      "outputs": []
    },
    {
      "cell_type": "markdown",
      "source": [
        "### Gợi ý"
      ],
      "metadata": {
        "id": "vaQvMDe9mzQo"
      }
    },
    {
      "cell_type": "markdown",
      "metadata": {
        "id": "gkXpJZKUm5aK"
      },
      "source": [
        "Cấu trúc vòng lặp có dạng:"
      ]
    },
    {
      "cell_type": "code",
      "metadata": {
        "id": "VKh02ep9m8JB"
      },
      "source": [
        "for i in range(len(....)):\n",
        "  age = ...\n",
        "  output = age_range(age)\n",
        "  print(output)"
      ],
      "execution_count": null,
      "outputs": []
    },
    {
      "cell_type": "markdown",
      "metadata": {
        "id": "G2xSX7V3la59"
      },
      "source": [
        "**Lưu ý:** Để tách tên của các member tự động trong dict, sử dụng cấu trúc sau:"
      ]
    },
    {
      "cell_type": "code",
      "metadata": {
        "id": "Tvn90dOgkmt8"
      },
      "source": [
        "member_name = [name for name in member_age] # name ở đây là tên biến do ta tự định nghĩa\n",
        "member_name # xuất output các giá trị của member_name để các bạn dễ nhìn"
      ],
      "execution_count": null,
      "outputs": []
    },
    {
      "cell_type": "markdown",
      "metadata": {
        "id": "hT_3VqVimCjO"
      },
      "source": [
        "Trích xuất giá trị tên của Quỳnh trong list trên"
      ]
    },
    {
      "cell_type": "code",
      "metadata": {
        "colab": {
          "base_uri": "https://localhost:8080/",
          "height": 35
        },
        "id": "K5b7qSVFl4ye",
        "outputId": "956ec29a-e109-42d7-97eb-7f4e5a3509bd"
      },
      "source": [
        "member_name[4]"
      ],
      "execution_count": null,
      "outputs": [
        {
          "output_type": "execute_result",
          "data": {
            "application/vnd.google.colaboratory.intrinsic+json": {
              "type": "string"
            },
            "text/plain": [
              "'Quỳnh'"
            ]
          },
          "metadata": {
            "tags": []
          },
          "execution_count": 70
        }
      ]
    },
    {
      "cell_type": "markdown",
      "metadata": {
        "id": "lVu8Ny8smz9T"
      },
      "source": [
        "Để lấy số tuổi tương ứng của Quỳnh"
      ]
    },
    {
      "cell_type": "code",
      "metadata": {
        "colab": {
          "base_uri": "https://localhost:8080/"
        },
        "id": "_Zvtt56PmuUK",
        "outputId": "9ddf5e07-577b-433b-cb7d-ec9bd97c149e"
      },
      "source": [
        "member_age.get(member_name[4])"
      ],
      "execution_count": null,
      "outputs": [
        {
          "output_type": "execute_result",
          "data": {
            "text/plain": [
              "25"
            ]
          },
          "metadata": {
            "tags": []
          },
          "execution_count": 74
        }
      ]
    }
  ]
}